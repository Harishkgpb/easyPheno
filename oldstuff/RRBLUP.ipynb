{
 "cells": [
  {
   "cell_type": "code",
   "execution_count": 1,
   "id": "2b660ae8",
   "metadata": {},
   "outputs": [],
   "source": [
    "import numpy as np\n",
    "from scipy.optimize import minimize\n",
    "from scipy.optimize import brent\n",
    "import pandas as pd\n",
    "import datetime\n",
    "import h5py\n",
    "from sklearn.metrics import accuracy_score"
   ]
  },
  {
   "cell_type": "code",
   "execution_count": 2,
   "id": "aaa0cb14",
   "metadata": {},
   "outputs": [],
   "source": [
    "def get_data(h5_path, OuterFold, InnerFold):\n",
    "    with h5py.File(h5_path, \"r\") as f:\n",
    "        X_trn = f[f'outerfold_{OuterFold}/innerfold_{InnerFold}/trn/X'][:]\n",
    "        y_trn = f[f'outerfold_{OuterFold}/innerfold_{InnerFold}/trn/y'][:]\n",
    "        X_vld = f[f'outerfold_{OuterFold}/innerfold_{InnerFold}/vld/X'][:]\n",
    "        y_vld = f[f'outerfold_{OuterFold}/innerfold_{InnerFold}/vld/y'][:]\n",
    "        sid = f[f'outerfold_{OuterFold}/innerfold_{InnerFold}/vld/sid'][:]\n",
    "    return X_trn,y_trn,X_vld,y_vld,sid\n",
    "\n",
    "def REML(lamb, n, e_val_SHS, omega_sq):\n",
    "    return (n-1)*np.log(sum(np.divide(omega_sq, (e_val_SHS+lamb)))) + sum(np.log(e_val_SHS+lamb))\n",
    "\n",
    "def BLUP(y,Z=None,G=None):\n",
    "    n = len(y)\n",
    "    if Z is None:\n",
    "        Z = np.eye(n)\n",
    "    else:\n",
    "        Z = np.asarray(Z)\n",
    "    X = np.ones((n,1))\n",
    "    \n",
    "    S = np.eye(n)-1/n*np.ones((n,n))\n",
    "    sqn = np.sqrt(n)\n",
    "    \n",
    "    #spectral decomposition\n",
    "    if G is None:\n",
    "        H = np.matmul(Z,Z.T) + sqn*np.eye(n)\n",
    "    else:\n",
    "        H = np.matmul(Z, np.matmul(G,Z.T)) + sqn*np.eye(n)\n",
    "    \n",
    "    e_val, V = np.linalg.eig(H)\n",
    "    e_val = e_val - sqn\n",
    "    SHS = np.matmul(S, np.matmul(H,S))\n",
    "    e_val_SHS, V_SHS = np.linalg.eig(SHS)\n",
    "    V_SHS = np.delete(V_SHS, -1, axis=1)\n",
    "    e_val_SHS = np.delete(e_val_SHS, -1) - sqn\n",
    "    \n",
    "    omega = np.matmul(V_SHS.T,y)\n",
    "    omega_sq = np.multiply(omega,omega)\n",
    "    \n",
    "    #minimize REML\n",
    "    x0 = np.abs(np.min(e_val_SHS))+1e-09\n",
    "    res = minimize(REML,x0,args=(n,e_val_SHS,omega_sq))                     \n",
    "    lamb_opt = res.x\n",
    "    \n",
    "    #calc H_inv\n",
    "    H_inv = np.matmul(V,np.divide(V,(e_val+lamb_opt)).T)\n",
    "    \n",
    "    #calc beta and u\n",
    "    W = np.matmul(X.T, np.matmul(H_inv,X))\n",
    "    beta = np.linalg.solve(W, np.matmul(X.T, np.matmul(H_inv,y)))\n",
    "    if G is None:\n",
    "        u = np.matmul(Z.T, np.matmul(H_inv, (y-np.matmul(X,beta))))\n",
    "    else:\n",
    "        u = np.matmul(G, np.matmul(Z.T, np.matmul(H_inv, (y-np.matmul(X,beta)))))\n",
    "    \n",
    "    return beta, u\n",
    "\n",
    "def pred(beta,Z,u):\n",
    "    return beta + np.matmul(Z, u)\n",
    "\n",
    "def get_Z(X_tr,X_ts):\n",
    "    X_tr = np.asarray(X_tr)\n",
    "    X_ts = np.asarray(X_ts)\n",
    "    n = len(X_tr)+len(X_ts)\n",
    "    mafs = np.sum(X_tr, axis = 0)+np.sum(X_ts, axis = 0)\n",
    "    mafs = (n - mafs)/(2*n)\n",
    "    P = 2*(mafs-0.5)\n",
    "    Z_tr = X_tr-P\n",
    "    Z_ts = X_ts-P\n",
    "    return Z_tr, Z_ts\n",
    "\n",
    "def to_labels(probs, threshold):\n",
    "    return (probs >= threshold).astype('int')"
   ]
  },
  {
   "cell_type": "code",
   "execution_count": 3,
   "id": "5b934d35",
   "metadata": {},
   "outputs": [],
   "source": [
    "base = '../ML4RG/train_test_split/'\n",
    "pt = 'atwell_LeafRoll_s'\n",
    "h5_path = pt + '_strat.h5'\n"
   ]
  },
  {
   "cell_type": "code",
   "execution_count": 17,
   "id": "2c33787e",
   "metadata": {
    "scrolled": false
   },
   "outputs": [],
   "source": [
    "#Regression\n",
    "OuterFold = 0\n",
    "InnerFold = 'full'\n",
    "\n",
    "#get train and test data\n",
    "X_train, y_train, X_test, y_test, sid_test = get_data(h5_path, OuterFold, InnerFold)\n",
    "\n",
    "#train model and get predictions\n",
    "Z_train, Z_test = get_Z(X_train,X_test)\n",
    "beta, u = BLUP(y=y_train, Z=Z_train)\n",
    "y_pred = pred(beta,Z_test,u)\n"
   ]
  },
  {
   "cell_type": "code",
   "execution_count": null,
   "id": "4f877908",
   "metadata": {},
   "outputs": [],
   "source": [
    "#save predictions\n",
    "data = pd.DataFrame({\n",
    "    'ID': sid_test,\n",
    "    'True': y_test,\n",
    "    'Prediction': y_pred\n",
    "})\n",
    "\n",
    "data.to_csv(base + pt + '/outerFold' + str(OuterFold) + '/predictions_blup/Predictions_Test_' + str(OuterFold) + '_' + str(InnerFold) +'_BLUP_' + pt + datetime.datetime.now().strftime(\"%d-%b-%Y_%H-%M\") + '.csv',\n",
    "        sep=',', decimal='.', float_format='%.10f')"
   ]
  },
  {
   "cell_type": "code",
   "execution_count": 4,
   "id": "c9883958",
   "metadata": {
    "scrolled": true
   },
   "outputs": [],
   "source": [
    "#Classification - get threshold\n",
    "OuterFold = 0\n",
    "thresholds_to_test = np.arange(0, 1, 0.001)\n",
    "scores = []\n",
    "for i in range(0,3):\n",
    "    X_train, y_train, X_test, y_test, sid_test = get_data(h5_path, OuterFold, i)\n",
    "\n",
    "    Z_train, Z_test = get_Z(X_train,X_test)\n",
    "    beta, u = BLUP(y=y_train, Z=Z_train)\n",
    "    y_prob = pred(beta,Z_test,u)\n",
    "    \n",
    "    scores.append([accuracy_score(y_test, to_labels(y_prob, t)) for t in thresholds_to_test])\n",
    "\n",
    "scores = np.array(scores)\n",
    "scores_mean = np.mean(scores, axis = 0)\n",
    "threshold = np.argmax(scores, axis=1)*0.001\n",
    "thr_mean = np.argmax(scores_mean)*0.001"
   ]
  },
  {
   "cell_type": "code",
   "execution_count": 5,
   "id": "acd9f2a0",
   "metadata": {
    "scrolled": true
   },
   "outputs": [],
   "source": [
    "#Classification - retrain on full dataset\n",
    "OuterFold = 0\n",
    "InnerFold = 'full'\n",
    "\n",
    "#get train and test data\n",
    "X_train, y_train, X_test, y_test, sid_test = get_data(h5_path, OuterFold, InnerFold)\n",
    "\n",
    "#train model and get predictions\n",
    "Z_train, Z_test = get_Z(X_train,X_test)\n",
    "beta, u = BLUP(y=y_train, Z=Z_train)\n",
    "y_prob = pred(beta,Z_test,u)\n",
    "\n",
    "#get labels\n",
    "y_pred = to_labels(y_prob, thr_mean)\n",
    "accuracy_score(y_test, y_pred)"
   ]
  },
  {
   "cell_type": "code",
   "execution_count": 7,
   "id": "9d6f0edb",
   "metadata": {},
   "outputs": [],
   "source": [
    "#save predictions\n",
    "data = pd.DataFrame({\n",
    "    'ID': sid_test,\n",
    "    'True': y_test,\n",
    "    'Prediction': y_pred\n",
    "})\n",
    "\n",
    "data.to_csv(base + pt + '/outerFold' + str(OuterFold) + '/predictions_blup/Predictions_Test_' + str(OuterFold) + '_' + str(InnerFold) +'_BLUP_treshold_'+ str(thr_mean) +'_'+ pt + datetime.datetime.now().strftime(\"%d-%b-%Y_%H-%M\") + '.csv',\n",
    "        sep=',', decimal='.', float_format='%.10f')"
   ]
  }
 ],
 "metadata": {
  "kernelspec": {
   "display_name": "Python 3",
   "language": "python",
   "name": "python3"
  },
  "language_info": {
   "codemirror_mode": {
    "name": "ipython",
    "version": 3
   },
   "file_extension": ".py",
   "mimetype": "text/x-python",
   "name": "python",
   "nbconvert_exporter": "python",
   "pygments_lexer": "ipython3",
   "version": "3.8.2"
  }
 },
 "nbformat": 4,
 "nbformat_minor": 5
}
