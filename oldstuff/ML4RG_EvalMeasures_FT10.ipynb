{
 "cells": [
  {
   "cell_type": "code",
   "execution_count": 1,
   "id": "fc20af0a",
   "metadata": {},
   "outputs": [],
   "source": [
    "import pandas as pd\n",
    "import numpy as np\n",
    "import sklearn.metrics\n",
    "import h5py"
   ]
  },
  {
   "cell_type": "code",
   "execution_count": 2,
   "id": "f9a45952",
   "metadata": {},
   "outputs": [],
   "source": [
    "baseset_mean_dict = {}\n",
    "for baseset in ['atwell_FT10_s', 'atwell_FT10_b']:\n",
    "    h5_path =  '/bit_storage/Workspace/Maura/ML4RG/train_test_split/' + baseset + '/' + baseset + '_strat.h5'\n",
    "    with h5py.File(h5_path, \"r\") as f:             \n",
    "        sid = f[f'outerfold_0/innerfold_full/vld/sid'][:]\n",
    "        y = f[f'outerfold_0/innerfold_full/vld/y'][:]\n",
    "    baseset_mean_dict[baseset] = np.mean(y)"
   ]
  },
  {
   "cell_type": "code",
   "execution_count": 3,
   "id": "9d61aca8",
   "metadata": {},
   "outputs": [
    {
     "data": {
      "text/plain": [
       "{'atwell_FT10_s': 65.16327, 'atwell_FT10_b': 88.23874}"
      ]
     },
     "execution_count": 3,
     "metadata": {},
     "output_type": "execute_result"
    }
   ],
   "source": [
    "baseset_mean_dict"
   ]
  },
  {
   "cell_type": "code",
   "execution_count": 9,
   "id": "040c5cf8",
   "metadata": {},
   "outputs": [],
   "source": [
    "# TODO: select baseset\n",
    "#baseset = 'atwell_FT10_s'\n",
    "baseset = 'atwell_FT10_b'\n",
    "\n",
    "# TODO: select postfix\n",
    "#postfix = ''\n",
    "#postfix = '_cnn'\n",
    "postfix = '_blup'\n",
    "\n",
    "base_dir = '/bit_storage/Workspace/Maura/ML4RG/train_test_split/' + baseset + '/outerFold0/predictions' + postfix + '/'"
   ]
  },
  {
   "cell_type": "code",
   "execution_count": 10,
   "id": "1aa1cbb6",
   "metadata": {},
   "outputs": [],
   "source": [
    "#TODO: select filename\n",
    "filename = 'Predictions_Test_0_full_BLUP_atwell_FT10_b06-Jul-2021_14-21.csv'"
   ]
  },
  {
   "cell_type": "code",
   "execution_count": 11,
   "id": "35a37e3c",
   "metadata": {},
   "outputs": [],
   "source": [
    "results_file = pd.read_csv(base_dir + filename)\n",
    "predictions = results_file['Prediction']\n",
    "targets = results_file['True']"
   ]
  },
  {
   "cell_type": "code",
   "execution_count": 12,
   "id": "75dcf2ff",
   "metadata": {},
   "outputs": [],
   "source": [
    "rmse = sklearn.metrics.mean_squared_error(y_true=targets, y_pred=predictions, squared=False)\n",
    "rmse_scaled = rmse / baseset_mean_dict[baseset]\n",
    "r_squared = sklearn.metrics.r2_score(y_true=targets, y_pred=predictions)"
   ]
  },
  {
   "cell_type": "code",
   "execution_count": 13,
   "id": "7a4244c8",
   "metadata": {},
   "outputs": [
    {
     "name": "stdout",
     "output_type": "stream",
     "text": [
      "RMSE: 10.57\n",
      "RMSE scaled: 0.12\n",
      "R2: 0.71\n"
     ]
    }
   ],
   "source": [
    "print('RMSE: ' + str(round(rmse, 2)))\n",
    "print('RMSE scaled: ' + str(round(rmse_scaled, 2)))\n",
    "print('R2: ' + str(round(r_squared, 2)))"
   ]
  },
  {
   "cell_type": "code",
   "execution_count": null,
   "id": "e6e80b16",
   "metadata": {},
   "outputs": [],
   "source": []
  },
  {
   "cell_type": "code",
   "execution_count": null,
   "id": "5b448cdb",
   "metadata": {},
   "outputs": [],
   "source": []
  }
 ],
 "metadata": {
  "kernelspec": {
   "display_name": "Python 3",
   "language": "python",
   "name": "python3"
  },
  "language_info": {
   "codemirror_mode": {
    "name": "ipython",
    "version": 3
   },
   "file_extension": ".py",
   "mimetype": "text/x-python",
   "name": "python",
   "nbconvert_exporter": "python",
   "pygments_lexer": "ipython3",
   "version": "3.8.2"
  }
 },
 "nbformat": 4,
 "nbformat_minor": 5
}
